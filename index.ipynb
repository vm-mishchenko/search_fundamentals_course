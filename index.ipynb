{
 "cells": [
  {
   "cell_type": "code",
   "execution_count": 1,
   "outputs": [],
   "source": [
    "import pandas as pd"
   ],
   "metadata": {
    "collapsed": false,
    "pycharm": {
     "name": "#%%\n"
    }
   }
  },
  {
   "cell_type": "code",
   "execution_count": 2,
   "outputs": [],
   "source": [
    "clicks = pd.read_csv('./document-examples/train-big-example.csv', na_values='?', encoding=\"utf-8-sig\")"
   ],
   "metadata": {
    "collapsed": false,
    "pycharm": {
     "name": "#%%\n"
    }
   }
  },
  {
   "cell_type": "code",
   "execution_count": 3,
   "outputs": [
    {
     "data": {
      "text/plain": "                                       user      sku            category  \\\n0  000000df17cd56a5df4a94074e133c9d4739fae3  2125233        abcat0101001   \n1  000001928162247ffaf63185cd8b2a244c78e7c6  2009324        abcat0101001   \n2  000017f79c2b5da56721f22f9fdd726b13daf8e8  1517163  pcmcat193100050014   \n3  000017f79c2b5da56721f22f9fdd726b13daf8e8  2877125        abcat0101001   \n4  000017f79c2b5da56721f22f9fdd726b13daf8e8  2877134        abcat0101005   \n\n                                 query               click_time  \\\n0  Televisiones Panasonic  50 pulgadas  2011-09-01 23:44:52.533   \n1                                Sharp   2011-09-05 12:25:37.42   \n2                                 nook   2011-08-24 12:56:58.91   \n3                                  rca  2011-10-25 07:18:14.722   \n4                                  rca  2011-10-25 07:19:51.697   \n\n                query_time  \n0  2011-09-01 23:43:59.752  \n1  2011-09-05 12:25:01.187  \n2  2011-08-24 12:55:13.012  \n3  2011-10-25 07:16:51.759  \n4  2011-10-25 07:16:51.759  ",
      "text/html": "<div>\n<style scoped>\n    .dataframe tbody tr th:only-of-type {\n        vertical-align: middle;\n    }\n\n    .dataframe tbody tr th {\n        vertical-align: top;\n    }\n\n    .dataframe thead th {\n        text-align: right;\n    }\n</style>\n<table border=\"1\" class=\"dataframe\">\n  <thead>\n    <tr style=\"text-align: right;\">\n      <th></th>\n      <th>user</th>\n      <th>sku</th>\n      <th>category</th>\n      <th>query</th>\n      <th>click_time</th>\n      <th>query_time</th>\n    </tr>\n  </thead>\n  <tbody>\n    <tr>\n      <th>0</th>\n      <td>000000df17cd56a5df4a94074e133c9d4739fae3</td>\n      <td>2125233</td>\n      <td>abcat0101001</td>\n      <td>Televisiones Panasonic  50 pulgadas</td>\n      <td>2011-09-01 23:44:52.533</td>\n      <td>2011-09-01 23:43:59.752</td>\n    </tr>\n    <tr>\n      <th>1</th>\n      <td>000001928162247ffaf63185cd8b2a244c78e7c6</td>\n      <td>2009324</td>\n      <td>abcat0101001</td>\n      <td>Sharp</td>\n      <td>2011-09-05 12:25:37.42</td>\n      <td>2011-09-05 12:25:01.187</td>\n    </tr>\n    <tr>\n      <th>2</th>\n      <td>000017f79c2b5da56721f22f9fdd726b13daf8e8</td>\n      <td>1517163</td>\n      <td>pcmcat193100050014</td>\n      <td>nook</td>\n      <td>2011-08-24 12:56:58.91</td>\n      <td>2011-08-24 12:55:13.012</td>\n    </tr>\n    <tr>\n      <th>3</th>\n      <td>000017f79c2b5da56721f22f9fdd726b13daf8e8</td>\n      <td>2877125</td>\n      <td>abcat0101001</td>\n      <td>rca</td>\n      <td>2011-10-25 07:18:14.722</td>\n      <td>2011-10-25 07:16:51.759</td>\n    </tr>\n    <tr>\n      <th>4</th>\n      <td>000017f79c2b5da56721f22f9fdd726b13daf8e8</td>\n      <td>2877134</td>\n      <td>abcat0101005</td>\n      <td>rca</td>\n      <td>2011-10-25 07:19:51.697</td>\n      <td>2011-10-25 07:16:51.759</td>\n    </tr>\n  </tbody>\n</table>\n</div>"
     },
     "execution_count": 3,
     "metadata": {},
     "output_type": "execute_result"
    }
   ],
   "source": [
    "clicks.head()"
   ],
   "metadata": {
    "collapsed": false,
    "pycharm": {
     "name": "#%%\n"
    }
   }
  },
  {
   "cell_type": "code",
   "execution_count": 4,
   "outputs": [],
   "source": [
    "# Groupby creates several Data frames each filtered by the query parameter\n",
    "# Useful to use when I have a question as: \"For each category I want to calculate....\"\n",
    "# https://www.youtube.com/watch?v=qy0fDqoMJx8\n",
    "query_gb = clicks.groupby('query')"
   ],
   "metadata": {
    "collapsed": false,
    "pycharm": {
     "name": "#%%\n"
    }
   }
  },
  {
   "cell_type": "markdown",
   "source": [
    "## Most popular queries"
   ],
   "metadata": {
    "collapsed": false,
    "pycharm": {
     "name": "#%% md\n"
    }
   }
  },
  {
   "cell_type": "code",
   "execution_count": 5,
   "outputs": [
    {
     "data": {
      "text/plain": "                                         count\nquery                                         \nlcd tv                                      11\nLaptops                                      8\n2622037 2127204 2127213 2121716 2138291      8\niPad                                         7\nvirgin mobile                                5\n...                                        ...\nSeason of the Witch                          1\nSharp                                        1\nSirius                                       1\nSlide converter                              1\nzumba dvd                                    1\n\n[759 rows x 1 columns]",
      "text/html": "<div>\n<style scoped>\n    .dataframe tbody tr th:only-of-type {\n        vertical-align: middle;\n    }\n\n    .dataframe tbody tr th {\n        vertical-align: top;\n    }\n\n    .dataframe thead th {\n        text-align: right;\n    }\n</style>\n<table border=\"1\" class=\"dataframe\">\n  <thead>\n    <tr style=\"text-align: right;\">\n      <th></th>\n      <th>count</th>\n    </tr>\n    <tr>\n      <th>query</th>\n      <th></th>\n    </tr>\n  </thead>\n  <tbody>\n    <tr>\n      <th>lcd tv</th>\n      <td>11</td>\n    </tr>\n    <tr>\n      <th>Laptops</th>\n      <td>8</td>\n    </tr>\n    <tr>\n      <th>2622037 2127204 2127213 2121716 2138291</th>\n      <td>8</td>\n    </tr>\n    <tr>\n      <th>iPad</th>\n      <td>7</td>\n    </tr>\n    <tr>\n      <th>virgin mobile</th>\n      <td>5</td>\n    </tr>\n    <tr>\n      <th>...</th>\n      <td>...</td>\n    </tr>\n    <tr>\n      <th>Season of the Witch</th>\n      <td>1</td>\n    </tr>\n    <tr>\n      <th>Sharp</th>\n      <td>1</td>\n    </tr>\n    <tr>\n      <th>Sirius</th>\n      <td>1</td>\n    </tr>\n    <tr>\n      <th>Slide converter</th>\n      <td>1</td>\n    </tr>\n    <tr>\n      <th>zumba dvd</th>\n      <td>1</td>\n    </tr>\n  </tbody>\n</table>\n<p>759 rows × 1 columns</p>\n</div>"
     },
     "execution_count": 5,
     "metadata": {},
     "output_type": "execute_result"
    }
   ],
   "source": [
    "# here \"sku\" column is randomly chosen column. Any other column would work as well.\n",
    "query_gb.sku.agg(['count']).sort_values('count', ascending=False)"
   ],
   "metadata": {
    "collapsed": false,
    "pycharm": {
     "name": "#%%\n"
    }
   }
  },
  {
   "cell_type": "markdown",
   "source": [
    "## Number of \"iphone\" queries"
   ],
   "metadata": {
    "collapsed": false,
    "pycharm": {
     "name": "#%% md\n"
    }
   }
  },
  {
   "cell_type": "code",
   "execution_count": 6,
   "outputs": [],
   "source": [
    "iphones = query_gb.get_group('iphone')"
   ],
   "metadata": {
    "collapsed": false,
    "pycharm": {
     "name": "#%%\n"
    }
   }
  },
  {
   "cell_type": "code",
   "execution_count": 15,
   "outputs": [
    {
     "data": {
      "text/plain": "2"
     },
     "execution_count": 15,
     "metadata": {},
     "output_type": "execute_result"
    }
   ],
   "source": [
    "iphones['sku'].count()"
   ],
   "metadata": {
    "collapsed": false,
    "pycharm": {
     "name": "#%%\n"
    }
   }
  },
  {
   "cell_type": "markdown",
   "source": [
    "## Most clicked SKU for \"iphone\" query"
   ],
   "metadata": {
    "collapsed": false,
    "pycharm": {
     "name": "#%% md\n"
    }
   }
  },
  {
   "cell_type": "code",
   "execution_count": 8,
   "outputs": [],
   "source": [
    "iphones = query_gb.get_group('iphone')"
   ],
   "metadata": {
    "collapsed": false,
    "pycharm": {
     "name": "#%%\n"
    }
   }
  },
  {
   "cell_type": "code",
   "execution_count": 9,
   "outputs": [],
   "source": [
    "sku_gb = iphones.groupby('sku')"
   ],
   "metadata": {
    "collapsed": false,
    "pycharm": {
     "name": "#%%\n"
    }
   }
  },
  {
   "cell_type": "code",
   "execution_count": 10,
   "outputs": [
    {
     "data": {
      "text/plain": "         count\nsku           \n1049078      1\n1230537      1",
      "text/html": "<div>\n<style scoped>\n    .dataframe tbody tr th:only-of-type {\n        vertical-align: middle;\n    }\n\n    .dataframe tbody tr th {\n        vertical-align: top;\n    }\n\n    .dataframe thead th {\n        text-align: right;\n    }\n</style>\n<table border=\"1\" class=\"dataframe\">\n  <thead>\n    <tr style=\"text-align: right;\">\n      <th></th>\n      <th>count</th>\n    </tr>\n    <tr>\n      <th>sku</th>\n      <th></th>\n    </tr>\n  </thead>\n  <tbody>\n    <tr>\n      <th>1049078</th>\n      <td>1</td>\n    </tr>\n    <tr>\n      <th>1230537</th>\n      <td>1</td>\n    </tr>\n  </tbody>\n</table>\n</div>"
     },
     "execution_count": 10,
     "metadata": {},
     "output_type": "execute_result"
    }
   ],
   "source": [
    "sku_gb.user.agg(['count']).sort_values('count', ascending=False)"
   ],
   "metadata": {
    "collapsed": false,
    "pycharm": {
     "name": "#%%\n"
    }
   }
  },
  {
   "cell_type": "markdown",
   "source": [
    "## Most clicked \"Category\" for \"iphone\" query"
   ],
   "metadata": {
    "collapsed": false,
    "pycharm": {
     "name": "#%% md\n"
    }
   }
  },
  {
   "cell_type": "code",
   "execution_count": 11,
   "outputs": [],
   "source": [
    "category_gb = iphones.groupby('category')"
   ],
   "metadata": {
    "collapsed": false,
    "pycharm": {
     "name": "#%%\n"
    }
   }
  },
  {
   "cell_type": "code",
   "execution_count": 12,
   "outputs": [
    {
     "data": {
      "text/plain": "                    count\ncategory                 \npcmcat201900050009      1\npcmcat209400050001      1",
      "text/html": "<div>\n<style scoped>\n    .dataframe tbody tr th:only-of-type {\n        vertical-align: middle;\n    }\n\n    .dataframe tbody tr th {\n        vertical-align: top;\n    }\n\n    .dataframe thead th {\n        text-align: right;\n    }\n</style>\n<table border=\"1\" class=\"dataframe\">\n  <thead>\n    <tr style=\"text-align: right;\">\n      <th></th>\n      <th>count</th>\n    </tr>\n    <tr>\n      <th>category</th>\n      <th></th>\n    </tr>\n  </thead>\n  <tbody>\n    <tr>\n      <th>pcmcat201900050009</th>\n      <td>1</td>\n    </tr>\n    <tr>\n      <th>pcmcat209400050001</th>\n      <td>1</td>\n    </tr>\n  </tbody>\n</table>\n</div>"
     },
     "execution_count": 12,
     "metadata": {},
     "output_type": "execute_result"
    }
   ],
   "source": [
    "category_gb.user.agg(['count']).sort_values('count', ascending=False)"
   ],
   "metadata": {
    "collapsed": false,
    "pycharm": {
     "name": "#%%\n"
    }
   }
  },
  {
   "cell_type": "markdown",
   "source": [
    "## Most popular queries and most selected SKU for it"
   ],
   "metadata": {
    "collapsed": false,
    "pycharm": {
     "name": "#%% md\n"
    }
   }
  },
  {
   "cell_type": "code",
   "execution_count": 13,
   "outputs": [
    {
     "data": {
      "text/plain": "                      count\nquery        sku           \nlcd tv       2138389      5\n             2620821      5\nApple tv     1331156      3\niPad         1945531      3\nLogitech 650 9837565      2\n...                     ...\nPsp          3674224      1\n             9902392      1\nRadio        2158081      1\nRaid         9619722      1\nzumba dvd    1443926      1\n\n[969 rows x 1 columns]",
      "text/html": "<div>\n<style scoped>\n    .dataframe tbody tr th:only-of-type {\n        vertical-align: middle;\n    }\n\n    .dataframe tbody tr th {\n        vertical-align: top;\n    }\n\n    .dataframe thead th {\n        text-align: right;\n    }\n</style>\n<table border=\"1\" class=\"dataframe\">\n  <thead>\n    <tr style=\"text-align: right;\">\n      <th></th>\n      <th></th>\n      <th>count</th>\n    </tr>\n    <tr>\n      <th>query</th>\n      <th>sku</th>\n      <th></th>\n    </tr>\n  </thead>\n  <tbody>\n    <tr>\n      <th rowspan=\"2\" valign=\"top\">lcd tv</th>\n      <th>2138389</th>\n      <td>5</td>\n    </tr>\n    <tr>\n      <th>2620821</th>\n      <td>5</td>\n    </tr>\n    <tr>\n      <th>Apple tv</th>\n      <th>1331156</th>\n      <td>3</td>\n    </tr>\n    <tr>\n      <th>iPad</th>\n      <th>1945531</th>\n      <td>3</td>\n    </tr>\n    <tr>\n      <th>Logitech 650</th>\n      <th>9837565</th>\n      <td>2</td>\n    </tr>\n    <tr>\n      <th>...</th>\n      <th>...</th>\n      <td>...</td>\n    </tr>\n    <tr>\n      <th rowspan=\"2\" valign=\"top\">Psp</th>\n      <th>3674224</th>\n      <td>1</td>\n    </tr>\n    <tr>\n      <th>9902392</th>\n      <td>1</td>\n    </tr>\n    <tr>\n      <th>Radio</th>\n      <th>2158081</th>\n      <td>1</td>\n    </tr>\n    <tr>\n      <th>Raid</th>\n      <th>9619722</th>\n      <td>1</td>\n    </tr>\n    <tr>\n      <th>zumba dvd</th>\n      <th>1443926</th>\n      <td>1</td>\n    </tr>\n  </tbody>\n</table>\n<p>969 rows × 1 columns</p>\n</div>"
     },
     "execution_count": 13,
     "metadata": {},
     "output_type": "execute_result"
    }
   ],
   "source": [
    "clicks.groupby(['query', 'sku']).sku.agg(['count']).sort_values(by='count', ascending=False)"
   ],
   "metadata": {
    "collapsed": false,
    "pycharm": {
     "name": "#%%\n"
    }
   }
  }
 ],
 "metadata": {
  "kernelspec": {
   "display_name": "Python 3 (ipykernel)",
   "language": "python",
   "name": "python3"
  },
  "language_info": {
   "codemirror_mode": {
    "name": "ipython",
    "version": 3
   },
   "file_extension": ".py",
   "mimetype": "text/x-python",
   "name": "python",
   "nbconvert_exporter": "python",
   "pygments_lexer": "ipython3",
   "version": "3.8.6"
  }
 },
 "nbformat": 4,
 "nbformat_minor": 1
}
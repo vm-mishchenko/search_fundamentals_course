{
 "cells": [
  {
   "cell_type": "code",
   "execution_count": 14,
   "outputs": [],
   "source": [
    "import pandas as pd"
   ],
   "metadata": {
    "collapsed": false,
    "pycharm": {
     "name": "#%%\n"
    }
   }
  },
  {
   "cell_type": "code",
   "execution_count": 15,
   "outputs": [],
   "source": [
    "clicks = pd.read_csv('./document-examples/train-big-example.csv', na_values='?', encoding=\"utf-8-sig\")"
   ],
   "metadata": {
    "collapsed": false,
    "pycharm": {
     "name": "#%%\n"
    }
   }
  },
  {
   "cell_type": "code",
   "execution_count": 16,
   "outputs": [
    {
     "data": {
      "text/plain": "                                       user      sku            category  \\\n0  000000df17cd56a5df4a94074e133c9d4739fae3  2125233        abcat0101001   \n1  000001928162247ffaf63185cd8b2a244c78e7c6  2009324        abcat0101001   \n2  000017f79c2b5da56721f22f9fdd726b13daf8e8  1517163  pcmcat193100050014   \n3  000017f79c2b5da56721f22f9fdd726b13daf8e8  2877125        abcat0101001   \n4  000017f79c2b5da56721f22f9fdd726b13daf8e8  2877134        abcat0101005   \n\n                                 query               click_time  \\\n0  Televisiones Panasonic  50 pulgadas  2011-09-01 23:44:52.533   \n1                                Sharp   2011-09-05 12:25:37.42   \n2                                 nook   2011-08-24 12:56:58.91   \n3                                  rca  2011-10-25 07:18:14.722   \n4                                  rca  2011-10-25 07:19:51.697   \n\n                query_time  \n0  2011-09-01 23:43:59.752  \n1  2011-09-05 12:25:01.187  \n2  2011-08-24 12:55:13.012  \n3  2011-10-25 07:16:51.759  \n4  2011-10-25 07:16:51.759  ",
      "text/html": "<div>\n<style scoped>\n    .dataframe tbody tr th:only-of-type {\n        vertical-align: middle;\n    }\n\n    .dataframe tbody tr th {\n        vertical-align: top;\n    }\n\n    .dataframe thead th {\n        text-align: right;\n    }\n</style>\n<table border=\"1\" class=\"dataframe\">\n  <thead>\n    <tr style=\"text-align: right;\">\n      <th></th>\n      <th>user</th>\n      <th>sku</th>\n      <th>category</th>\n      <th>query</th>\n      <th>click_time</th>\n      <th>query_time</th>\n    </tr>\n  </thead>\n  <tbody>\n    <tr>\n      <th>0</th>\n      <td>000000df17cd56a5df4a94074e133c9d4739fae3</td>\n      <td>2125233</td>\n      <td>abcat0101001</td>\n      <td>Televisiones Panasonic  50 pulgadas</td>\n      <td>2011-09-01 23:44:52.533</td>\n      <td>2011-09-01 23:43:59.752</td>\n    </tr>\n    <tr>\n      <th>1</th>\n      <td>000001928162247ffaf63185cd8b2a244c78e7c6</td>\n      <td>2009324</td>\n      <td>abcat0101001</td>\n      <td>Sharp</td>\n      <td>2011-09-05 12:25:37.42</td>\n      <td>2011-09-05 12:25:01.187</td>\n    </tr>\n    <tr>\n      <th>2</th>\n      <td>000017f79c2b5da56721f22f9fdd726b13daf8e8</td>\n      <td>1517163</td>\n      <td>pcmcat193100050014</td>\n      <td>nook</td>\n      <td>2011-08-24 12:56:58.91</td>\n      <td>2011-08-24 12:55:13.012</td>\n    </tr>\n    <tr>\n      <th>3</th>\n      <td>000017f79c2b5da56721f22f9fdd726b13daf8e8</td>\n      <td>2877125</td>\n      <td>abcat0101001</td>\n      <td>rca</td>\n      <td>2011-10-25 07:18:14.722</td>\n      <td>2011-10-25 07:16:51.759</td>\n    </tr>\n    <tr>\n      <th>4</th>\n      <td>000017f79c2b5da56721f22f9fdd726b13daf8e8</td>\n      <td>2877134</td>\n      <td>abcat0101005</td>\n      <td>rca</td>\n      <td>2011-10-25 07:19:51.697</td>\n      <td>2011-10-25 07:16:51.759</td>\n    </tr>\n  </tbody>\n</table>\n</div>"
     },
     "execution_count": 16,
     "metadata": {},
     "output_type": "execute_result"
    }
   ],
   "source": [
    "clicks.head()"
   ],
   "metadata": {
    "collapsed": false,
    "pycharm": {
     "name": "#%%\n"
    }
   }
  },
  {
   "cell_type": "code",
   "execution_count": 17,
   "outputs": [],
   "source": [
    "# Groupby creates several Data frames each filtered by the query parameter\n",
    "# Useful to use when I have a question as: \"For each category I want to calculate....\"\n",
    "# https://www.youtube.com/watch?v=qy0fDqoMJx8\n",
    "query_gb = clicks.groupby('query')"
   ],
   "metadata": {
    "collapsed": false,
    "pycharm": {
     "name": "#%%\n"
    }
   }
  },
  {
   "cell_type": "markdown",
   "source": [
    "## Most popular queries"
   ],
   "metadata": {
    "collapsed": false,
    "pycharm": {
     "name": "#%% md\n"
    }
   }
  },
  {
   "cell_type": "code",
   "execution_count": 18,
   "outputs": [
    {
     "data": {
      "text/plain": "                                         count\nquery                                         \nlcd tv                                    1116\n2622037 2127204 2127213 2121716 2138291    582\nHp touchpad                                484\niPad                                       399\niPhone 4s                                  377\n...                                        ...\nP65st30                                      1\nP65gt30                                      1\nP60gt30                                      1\nP55gt30                                      1\n�g7-1167dx                                   1\n\n[33737 rows x 1 columns]",
      "text/html": "<div>\n<style scoped>\n    .dataframe tbody tr th:only-of-type {\n        vertical-align: middle;\n    }\n\n    .dataframe tbody tr th {\n        vertical-align: top;\n    }\n\n    .dataframe thead th {\n        text-align: right;\n    }\n</style>\n<table border=\"1\" class=\"dataframe\">\n  <thead>\n    <tr style=\"text-align: right;\">\n      <th></th>\n      <th>count</th>\n    </tr>\n    <tr>\n      <th>query</th>\n      <th></th>\n    </tr>\n  </thead>\n  <tbody>\n    <tr>\n      <th>lcd tv</th>\n      <td>1116</td>\n    </tr>\n    <tr>\n      <th>2622037 2127204 2127213 2121716 2138291</th>\n      <td>582</td>\n    </tr>\n    <tr>\n      <th>Hp touchpad</th>\n      <td>484</td>\n    </tr>\n    <tr>\n      <th>iPad</th>\n      <td>399</td>\n    </tr>\n    <tr>\n      <th>iPhone 4s</th>\n      <td>377</td>\n    </tr>\n    <tr>\n      <th>...</th>\n      <td>...</td>\n    </tr>\n    <tr>\n      <th>P65st30</th>\n      <td>1</td>\n    </tr>\n    <tr>\n      <th>P65gt30</th>\n      <td>1</td>\n    </tr>\n    <tr>\n      <th>P60gt30</th>\n      <td>1</td>\n    </tr>\n    <tr>\n      <th>P55gt30</th>\n      <td>1</td>\n    </tr>\n    <tr>\n      <th>�g7-1167dx</th>\n      <td>1</td>\n    </tr>\n  </tbody>\n</table>\n<p>33737 rows × 1 columns</p>\n</div>"
     },
     "execution_count": 18,
     "metadata": {},
     "output_type": "execute_result"
    }
   ],
   "source": [
    "# here \"sku\" column is randomly chosen column. Any other column would work as well.\n",
    "query_gb.sku.agg(['count']).sort_values('count', ascending=False)"
   ],
   "metadata": {
    "collapsed": false,
    "pycharm": {
     "name": "#%%\n"
    }
   }
  },
  {
   "cell_type": "markdown",
   "source": [
    "## Most clicked SKU for \"iphone\" query"
   ],
   "metadata": {
    "collapsed": false,
    "pycharm": {
     "name": "#%% md\n"
    }
   }
  },
  {
   "cell_type": "code",
   "execution_count": 19,
   "outputs": [],
   "source": [
    "iphones = query_gb.get_group('iphone')"
   ],
   "metadata": {
    "collapsed": false,
    "pycharm": {
     "name": "#%%\n"
    }
   }
  },
  {
   "cell_type": "code",
   "execution_count": 20,
   "outputs": [],
   "source": [
    "sku_gb = iphones.groupby('sku')"
   ],
   "metadata": {
    "collapsed": false,
    "pycharm": {
     "name": "#%%\n"
    }
   }
  },
  {
   "cell_type": "code",
   "execution_count": 21,
   "outputs": [
    {
     "data": {
      "text/plain": "          count\nsku            \n1230537      10\n3566902       6\n1048998       5\n3566775       4\n3440086       4\n...         ...\n2961724       1\n3003836       1\n3005219       1\n3011953       1\n18268199      1\n\n[71 rows x 1 columns]",
      "text/html": "<div>\n<style scoped>\n    .dataframe tbody tr th:only-of-type {\n        vertical-align: middle;\n    }\n\n    .dataframe tbody tr th {\n        vertical-align: top;\n    }\n\n    .dataframe thead th {\n        text-align: right;\n    }\n</style>\n<table border=\"1\" class=\"dataframe\">\n  <thead>\n    <tr style=\"text-align: right;\">\n      <th></th>\n      <th>count</th>\n    </tr>\n    <tr>\n      <th>sku</th>\n      <th></th>\n    </tr>\n  </thead>\n  <tbody>\n    <tr>\n      <th>1230537</th>\n      <td>10</td>\n    </tr>\n    <tr>\n      <th>3566902</th>\n      <td>6</td>\n    </tr>\n    <tr>\n      <th>1048998</th>\n      <td>5</td>\n    </tr>\n    <tr>\n      <th>3566775</th>\n      <td>4</td>\n    </tr>\n    <tr>\n      <th>3440086</th>\n      <td>4</td>\n    </tr>\n    <tr>\n      <th>...</th>\n      <td>...</td>\n    </tr>\n    <tr>\n      <th>2961724</th>\n      <td>1</td>\n    </tr>\n    <tr>\n      <th>3003836</th>\n      <td>1</td>\n    </tr>\n    <tr>\n      <th>3005219</th>\n      <td>1</td>\n    </tr>\n    <tr>\n      <th>3011953</th>\n      <td>1</td>\n    </tr>\n    <tr>\n      <th>18268199</th>\n      <td>1</td>\n    </tr>\n  </tbody>\n</table>\n<p>71 rows × 1 columns</p>\n</div>"
     },
     "execution_count": 21,
     "metadata": {},
     "output_type": "execute_result"
    }
   ],
   "source": [
    "sku_gb.user.agg(['count']).sort_values('count', ascending=False)"
   ],
   "metadata": {
    "collapsed": false,
    "pycharm": {
     "name": "#%%\n"
    }
   }
  },
  {
   "cell_type": "markdown",
   "source": [
    "## Most clicked \"Category\" for \"iphone\" query"
   ],
   "metadata": {
    "collapsed": false,
    "pycharm": {
     "name": "#%% md\n"
    }
   }
  },
  {
   "cell_type": "code",
   "execution_count": 22,
   "outputs": [],
   "source": [
    "category_gb = iphones.groupby('category')"
   ],
   "metadata": {
    "collapsed": false,
    "pycharm": {
     "name": "#%%\n"
    }
   }
  },
  {
   "cell_type": "code",
   "execution_count": 23,
   "outputs": [
    {
     "data": {
      "text/plain": "                    count\ncategory                 \npcmcat209400050001     57\npcmcat201900050009     11\npcmcat171900050029      5\npcmcat214700050000      5\npcmcat224000050003      4\nabcat0208009            3\npcmcat214700050001      3\npcmcat171900050024      3\npcmcat144700050004      2\npcmcat236800050000      2\nabcat0307026            2\npcmcat207900050011      1\npcmcat207900050012      1\nabcat0101001            1\npcmcat208100050009      1\npcmcat209000050008      1\npcmcat191200050015      1\npcmcat214900050004      1\npcmcat211300050005      1\npcmcat171900050028      1\npcmcat186400050010      1\nabcat0107040            1\npcmcat158400050073      1\npcmcat156400050037      1\ncat09000                1\ncat02716                1\ncat02015                1\ncat02010                1\nabcat0903003            1\nabcat0410003            1\nabcat0401004            1\nabcat0301006            1\nabcat0208011            1\npcmcat244200050013      1",
      "text/html": "<div>\n<style scoped>\n    .dataframe tbody tr th:only-of-type {\n        vertical-align: middle;\n    }\n\n    .dataframe tbody tr th {\n        vertical-align: top;\n    }\n\n    .dataframe thead th {\n        text-align: right;\n    }\n</style>\n<table border=\"1\" class=\"dataframe\">\n  <thead>\n    <tr style=\"text-align: right;\">\n      <th></th>\n      <th>count</th>\n    </tr>\n    <tr>\n      <th>category</th>\n      <th></th>\n    </tr>\n  </thead>\n  <tbody>\n    <tr>\n      <th>pcmcat209400050001</th>\n      <td>57</td>\n    </tr>\n    <tr>\n      <th>pcmcat201900050009</th>\n      <td>11</td>\n    </tr>\n    <tr>\n      <th>pcmcat171900050029</th>\n      <td>5</td>\n    </tr>\n    <tr>\n      <th>pcmcat214700050000</th>\n      <td>5</td>\n    </tr>\n    <tr>\n      <th>pcmcat224000050003</th>\n      <td>4</td>\n    </tr>\n    <tr>\n      <th>abcat0208009</th>\n      <td>3</td>\n    </tr>\n    <tr>\n      <th>pcmcat214700050001</th>\n      <td>3</td>\n    </tr>\n    <tr>\n      <th>pcmcat171900050024</th>\n      <td>3</td>\n    </tr>\n    <tr>\n      <th>pcmcat144700050004</th>\n      <td>2</td>\n    </tr>\n    <tr>\n      <th>pcmcat236800050000</th>\n      <td>2</td>\n    </tr>\n    <tr>\n      <th>abcat0307026</th>\n      <td>2</td>\n    </tr>\n    <tr>\n      <th>pcmcat207900050011</th>\n      <td>1</td>\n    </tr>\n    <tr>\n      <th>pcmcat207900050012</th>\n      <td>1</td>\n    </tr>\n    <tr>\n      <th>abcat0101001</th>\n      <td>1</td>\n    </tr>\n    <tr>\n      <th>pcmcat208100050009</th>\n      <td>1</td>\n    </tr>\n    <tr>\n      <th>pcmcat209000050008</th>\n      <td>1</td>\n    </tr>\n    <tr>\n      <th>pcmcat191200050015</th>\n      <td>1</td>\n    </tr>\n    <tr>\n      <th>pcmcat214900050004</th>\n      <td>1</td>\n    </tr>\n    <tr>\n      <th>pcmcat211300050005</th>\n      <td>1</td>\n    </tr>\n    <tr>\n      <th>pcmcat171900050028</th>\n      <td>1</td>\n    </tr>\n    <tr>\n      <th>pcmcat186400050010</th>\n      <td>1</td>\n    </tr>\n    <tr>\n      <th>abcat0107040</th>\n      <td>1</td>\n    </tr>\n    <tr>\n      <th>pcmcat158400050073</th>\n      <td>1</td>\n    </tr>\n    <tr>\n      <th>pcmcat156400050037</th>\n      <td>1</td>\n    </tr>\n    <tr>\n      <th>cat09000</th>\n      <td>1</td>\n    </tr>\n    <tr>\n      <th>cat02716</th>\n      <td>1</td>\n    </tr>\n    <tr>\n      <th>cat02015</th>\n      <td>1</td>\n    </tr>\n    <tr>\n      <th>cat02010</th>\n      <td>1</td>\n    </tr>\n    <tr>\n      <th>abcat0903003</th>\n      <td>1</td>\n    </tr>\n    <tr>\n      <th>abcat0410003</th>\n      <td>1</td>\n    </tr>\n    <tr>\n      <th>abcat0401004</th>\n      <td>1</td>\n    </tr>\n    <tr>\n      <th>abcat0301006</th>\n      <td>1</td>\n    </tr>\n    <tr>\n      <th>abcat0208011</th>\n      <td>1</td>\n    </tr>\n    <tr>\n      <th>pcmcat244200050013</th>\n      <td>1</td>\n    </tr>\n  </tbody>\n</table>\n</div>"
     },
     "execution_count": 23,
     "metadata": {},
     "output_type": "execute_result"
    }
   ],
   "source": [
    "category_gb.user.agg(['count']).sort_values('count', ascending=False)"
   ],
   "metadata": {
    "collapsed": false,
    "pycharm": {
     "name": "#%%\n"
    }
   }
  },
  {
   "cell_type": "markdown",
   "source": [
    "## Most popular queries and most selected SKU for it"
   ],
   "metadata": {
    "collapsed": false,
    "pycharm": {
     "name": "#%% md\n"
    }
   }
  },
  {
   "cell_type": "code",
   "execution_count": 24,
   "outputs": [
    {
     "data": {
      "text/plain": "                      count\nquery        sku           \nlcd tv       2620821    497\nHp touchpad  2842056    264\nlcd tv       2138389    225\nhp touchpad  2842056    202\nTouchpad     2842056    185\n...                     ...\nPs3 console  9764462      1\n             9912131      1\n             9912159      1\nPs3 consoles 3061302      1\n�g7-1167dx   2881467      1\n\n[79031 rows x 1 columns]",
      "text/html": "<div>\n<style scoped>\n    .dataframe tbody tr th:only-of-type {\n        vertical-align: middle;\n    }\n\n    .dataframe tbody tr th {\n        vertical-align: top;\n    }\n\n    .dataframe thead th {\n        text-align: right;\n    }\n</style>\n<table border=\"1\" class=\"dataframe\">\n  <thead>\n    <tr style=\"text-align: right;\">\n      <th></th>\n      <th></th>\n      <th>count</th>\n    </tr>\n    <tr>\n      <th>query</th>\n      <th>sku</th>\n      <th></th>\n    </tr>\n  </thead>\n  <tbody>\n    <tr>\n      <th>lcd tv</th>\n      <th>2620821</th>\n      <td>497</td>\n    </tr>\n    <tr>\n      <th>Hp touchpad</th>\n      <th>2842056</th>\n      <td>264</td>\n    </tr>\n    <tr>\n      <th>lcd tv</th>\n      <th>2138389</th>\n      <td>225</td>\n    </tr>\n    <tr>\n      <th>hp touchpad</th>\n      <th>2842056</th>\n      <td>202</td>\n    </tr>\n    <tr>\n      <th>Touchpad</th>\n      <th>2842056</th>\n      <td>185</td>\n    </tr>\n    <tr>\n      <th>...</th>\n      <th>...</th>\n      <td>...</td>\n    </tr>\n    <tr>\n      <th rowspan=\"3\" valign=\"top\">Ps3 console</th>\n      <th>9764462</th>\n      <td>1</td>\n    </tr>\n    <tr>\n      <th>9912131</th>\n      <td>1</td>\n    </tr>\n    <tr>\n      <th>9912159</th>\n      <td>1</td>\n    </tr>\n    <tr>\n      <th>Ps3 consoles</th>\n      <th>3061302</th>\n      <td>1</td>\n    </tr>\n    <tr>\n      <th>�g7-1167dx</th>\n      <th>2881467</th>\n      <td>1</td>\n    </tr>\n  </tbody>\n</table>\n<p>79031 rows × 1 columns</p>\n</div>"
     },
     "execution_count": 24,
     "metadata": {},
     "output_type": "execute_result"
    }
   ],
   "source": [
    "clicks.groupby(['query', 'sku']).sku.agg(['count']).sort_values(by='count', ascending=False)"
   ],
   "metadata": {
    "collapsed": false,
    "pycharm": {
     "name": "#%%\n"
    }
   }
  }
 ],
 "metadata": {
  "kernelspec": {
   "display_name": "Python 3 (ipykernel)",
   "language": "python",
   "name": "python3"
  },
  "language_info": {
   "codemirror_mode": {
    "name": "ipython",
    "version": 3
   },
   "file_extension": ".py",
   "mimetype": "text/x-python",
   "name": "python",
   "nbconvert_exporter": "python",
   "pygments_lexer": "ipython3",
   "version": "3.8.6"
  }
 },
 "nbformat": 4,
 "nbformat_minor": 1
}